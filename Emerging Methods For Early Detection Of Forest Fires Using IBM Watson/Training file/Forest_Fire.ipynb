{
  "nbformat": 4,
  "nbformat_minor": 0,
  "metadata": {
    "colab": {
      "provenance": [],
      "collapsed_sections": []
    },
    "kernelspec": {
      "name": "python3",
      "display_name": "Python 3"
    },
    "language_info": {
      "name": "python"
    }
  },
  "cells": [
    {
      "cell_type": "code",
      "source": [
        "from keras.models import Sequential\n",
        "from keras.layers import Dense\n",
        "from keras.layers import Convolution2D\n",
        "from keras.layers import MaxPooling2D\n",
        "from keras.layers import Flatten"
      ],
      "metadata": {
        "id": "1bIerhcbxkRb"
      },
      "execution_count": 4,
      "outputs": []
    },
    {
      "cell_type": "code",
      "source": [
        "import numpy as np\n",
        "import tensorflow \n",
        "from tensorflow.keras.models import Sequential \n",
        "from tensorflow.keras import layers \n",
        "from tensorflow.keras.layers import Dense,Flatten\n",
        "from tensorflow.keras.layers import Conv2D,MaxPooling2D\n",
        "from tensorflow.keras.preprocessing.image import ImageDataGenerator"
      ],
      "metadata": {
        "id": "Nu9xnbU2rPVN"
      },
      "execution_count": 5,
      "outputs": []
    },
    {
      "cell_type": "code",
      "execution_count": 6,
      "metadata": {
        "id": "QNiXnCYjpZ9d"
      },
      "outputs": [],
      "source": [
        "import keras\n",
        "from keras.preprocessing.image import ImageDataGenerator"
      ]
    },
    {
      "cell_type": "code",
      "source": [
        "train_datagen=ImageDataGenerator(rescale=1./255,shear_range=0.2,rotation_range=180,zoom_range=0.2,horizontal_flip=True)\n",
        "test_datagen=ImageDataGenerator(rescale=1./255)"
      ],
      "metadata": {
        "id": "8t9BDvFZYvpN"
      },
      "execution_count": 7,
      "outputs": []
    },
    {
      "cell_type": "code",
      "source": [
        "x_train=train_datagen.flow_from_directory(r'/content/drive/MyDrive/forest fire/Dataset/train_set',target_size = (64,64), batch_size = 32, class_mode = 'categorical')"
      ],
      "metadata": {
        "colab": {
          "base_uri": "https://localhost:8080/"
        },
        "id": "dJUhSK03aSdG",
        "outputId": "2fc29d8f-8b40-4624-a203-77fe98ba84fe"
      },
      "execution_count": 8,
      "outputs": [
        {
          "output_type": "stream",
          "name": "stdout",
          "text": [
            "Found 445 images belonging to 2 classes.\n"
          ]
        }
      ]
    },
    {
      "cell_type": "code",
      "source": [
        "x_test=test_datagen.flow_from_directory(directory=r'/content/drive/MyDrive/forest fire/Dataset/test_set',target_size=(64,64),batch_size=32,class_mode='categorical')"
      ],
      "metadata": {
        "id": "baY3cIkScpMa",
        "colab": {
          "base_uri": "https://localhost:8080/"
        },
        "outputId": "219f545d-1d0f-4713-9b67-1ebabe6ac9f5"
      },
      "execution_count": 9,
      "outputs": [
        {
          "output_type": "stream",
          "name": "stdout",
          "text": [
            "Found 121 images belonging to 2 classes.\n"
          ]
        }
      ]
    },
    {
      "cell_type": "code",
      "source": [
        "print(x_train.class_indices)#checking the number of classes"
      ],
      "metadata": {
        "colab": {
          "base_uri": "https://localhost:8080/"
        },
        "id": "dzRo66JZr9uj",
        "outputId": "7dd8a865-a08c-493b-de40-270831d47299"
      },
      "execution_count": 10,
      "outputs": [
        {
          "output_type": "stream",
          "name": "stdout",
          "text": [
            "{'forest': 0, 'with fire': 1}\n"
          ]
        }
      ]
    },
    {
      "cell_type": "code",
      "source": [
        "from collections import Counter as c\n",
        "c(x_train.labels)"
      ],
      "metadata": {
        "colab": {
          "base_uri": "https://localhost:8080/"
        },
        "id": "6xH60mZtuDpx",
        "outputId": "c13cd1fa-b7fd-4b25-8325-13980706f09e"
      },
      "execution_count": 11,
      "outputs": [
        {
          "output_type": "execute_result",
          "data": {
            "text/plain": [
              "Counter({0: 281, 1: 164})"
            ]
          },
          "metadata": {},
          "execution_count": 11
        }
      ]
    },
    {
      "cell_type": "markdown",
      "source": [
        "## Creating the model"
      ],
      "metadata": {
        "id": "ZLgssnzvw0Lj"
      }
    },
    {
      "cell_type": "code",
      "source": [
        "model=Sequential()\n",
        "model.add(Convolution2D(32,(3,3),input_shape=(64,64,3),activation='relu'))\n",
        "model.add(MaxPooling2D(pool_size=(2,2)))                            \n",
        "model.add(Flatten())\n",
        "model.add(Dense(32))\n",
        "model.add(Dense(2,activation='softmax'))"
      ],
      "metadata": {
        "id": "Q6_WFFfCuPuR"
      },
      "execution_count": 12,
      "outputs": []
    },
    {
      "cell_type": "code",
      "source": [
        "model.summary()"
      ],
      "metadata": {
        "colab": {
          "base_uri": "https://localhost:8080/"
        },
        "id": "vFn4IAL91_vF",
        "outputId": "aa7721d7-816e-4e10-c17d-792a0eb5c34d"
      },
      "execution_count": 13,
      "outputs": [
        {
          "output_type": "stream",
          "name": "stdout",
          "text": [
            "Model: \"sequential\"\n",
            "_________________________________________________________________\n",
            " Layer (type)                Output Shape              Param #   \n",
            "=================================================================\n",
            " conv2d (Conv2D)             (None, 62, 62, 32)        896       \n",
            "                                                                 \n",
            " max_pooling2d (MaxPooling2D  (None, 31, 31, 32)       0         \n",
            " )                                                               \n",
            "                                                                 \n",
            " flatten (Flatten)           (None, 30752)             0         \n",
            "                                                                 \n",
            " dense (Dense)               (None, 32)                984096    \n",
            "                                                                 \n",
            " dense_1 (Dense)             (None, 2)                 66        \n",
            "                                                                 \n",
            "=================================================================\n",
            "Total params: 985,058\n",
            "Trainable params: 985,058\n",
            "Non-trainable params: 0\n",
            "_________________________________________________________________\n"
          ]
        }
      ]
    },
    {
      "cell_type": "markdown",
      "source": [
        "## ** Compiling the model**"
      ],
      "metadata": {
        "id": "pXLPuwa85rEH"
      }
    },
    {
      "cell_type": "code",
      "source": [
        "model.compile(optimizer='adam',loss='binary_crossentropy',metrics=['accuracy'])"
      ],
      "metadata": {
        "id": "5O0iiRC32Hh9"
      },
      "execution_count": 14,
      "outputs": []
    },
    {
      "cell_type": "code",
      "source": [
        "len(x_train)"
      ],
      "metadata": {
        "colab": {
          "base_uri": "https://localhost:8080/"
        },
        "id": "ErsALLZI57OI",
        "outputId": "83147a60-5be5-42c5-84a5-a2f15bf4a89a"
      },
      "execution_count": 15,
      "outputs": [
        {
          "output_type": "execute_result",
          "data": {
            "text/plain": [
              "14"
            ]
          },
          "metadata": {},
          "execution_count": 15
        }
      ]
    },
    {
      "cell_type": "markdown",
      "source": [
        "## **Fitting the model**"
      ],
      "metadata": {
        "id": "QC7Qe8Go60-z"
      }
    },
    {
      "cell_type": "code",
      "source": [
        "model.fit(x_train,steps_per_epoch=len(x_train),validation_data=x_test,validation_steps=len(x_test),epochs=10)"
      ],
      "metadata": {
        "colab": {
          "base_uri": "https://localhost:8080/"
        },
        "id": "gCW2N0_s6ICk",
        "outputId": "34ddee47-d763-4780-f62c-329c1d0c58b8"
      },
      "execution_count": 16,
      "outputs": [
        {
          "output_type": "stream",
          "name": "stdout",
          "text": [
            "Epoch 1/10\n",
            "14/14 [==============================] - 138s 10s/step - loss: 1.9883 - accuracy: 0.6584 - val_loss: 0.5860 - val_accuracy: 0.9339\n",
            "Epoch 2/10\n",
            "14/14 [==============================] - 21s 2s/step - loss: 0.3855 - accuracy: 0.8831 - val_loss: 0.1488 - val_accuracy: 0.9339\n",
            "Epoch 3/10\n",
            "14/14 [==============================] - 21s 2s/step - loss: 0.2278 - accuracy: 0.9101 - val_loss: 0.1112 - val_accuracy: 0.9587\n",
            "Epoch 4/10\n",
            "14/14 [==============================] - 21s 2s/step - loss: 0.2056 - accuracy: 0.9169 - val_loss: 0.0891 - val_accuracy: 0.9669\n",
            "Epoch 5/10\n",
            "14/14 [==============================] - 21s 1s/step - loss: 0.1958 - accuracy: 0.9124 - val_loss: 0.1257 - val_accuracy: 0.9339\n",
            "Epoch 6/10\n",
            "14/14 [==============================] - 21s 1s/step - loss: 0.2011 - accuracy: 0.8899 - val_loss: 0.1010 - val_accuracy: 0.9587\n",
            "Epoch 7/10\n",
            "14/14 [==============================] - 21s 2s/step - loss: 0.1768 - accuracy: 0.9213 - val_loss: 0.0729 - val_accuracy: 0.9917\n",
            "Epoch 8/10\n",
            "14/14 [==============================] - 21s 2s/step - loss: 0.1791 - accuracy: 0.9326 - val_loss: 0.0698 - val_accuracy: 0.9752\n",
            "Epoch 9/10\n",
            "14/14 [==============================] - 24s 2s/step - loss: 0.1609 - accuracy: 0.9303 - val_loss: 0.0619 - val_accuracy: 0.9752\n",
            "Epoch 10/10\n",
            "14/14 [==============================] - 22s 2s/step - loss: 0.1601 - accuracy: 0.9326 - val_loss: 0.0528 - val_accuracy: 0.9917\n"
          ]
        },
        {
          "output_type": "execute_result",
          "data": {
            "text/plain": [
              "<keras.callbacks.History at 0x7f60ea939f10>"
            ]
          },
          "metadata": {},
          "execution_count": 16
        }
      ]
    },
    {
      "cell_type": "markdown",
      "source": [
        "## **Saving our model**"
      ],
      "metadata": {
        "id": "QkzX0_1-3TFa"
      }
    },
    {
      "cell_type": "code",
      "source": [
        "model.save('forest1.h5')"
      ],
      "metadata": {
        "id": "UaNse_M67MM4"
      },
      "execution_count": 17,
      "outputs": []
    },
    {
      "cell_type": "markdown",
      "source": [
        "## **Predicting our results**"
      ],
      "metadata": {
        "id": "1J0Mc73K5qZI"
      }
    },
    {
      "cell_type": "code",
      "source": [
        "from tensorflow.keras.models import load_model\n",
        "from tensorflow.keras.preprocessing import image\n",
        "model = load_model(\"forest1.h5\")  "
      ],
      "metadata": {
        "id": "KcsDUPiR3cnH"
      },
      "execution_count": 18,
      "outputs": []
    },
    {
      "cell_type": "code",
      "source": [
        "img = image.load_img(r\"/content/drive/MyDrive/forest fire/Dataset/train_set/with fire/with fire (14).jpg\",target_size= (64,64))#loading of the image\n",
        "x = image.img_to_array(img)\n",
        "x = np.expand_dims(x,axis = 0)#changing the shape\n",
        "#pred = model.predict_classes(x)#predicting the classes\n",
        "preds=model.predict(x)\n",
        "preds=np.argmax(preds,axis=1)\n",
        "preds"
      ],
      "metadata": {
        "colab": {
          "base_uri": "https://localhost:8080/"
        },
        "id": "OzMvjWqE6nh0",
        "outputId": "48d0e4de-08a1-4bd9-a9ac-8f4dc60b3dcf"
      },
      "execution_count": 19,
      "outputs": [
        {
          "output_type": "stream",
          "name": "stdout",
          "text": [
            "1/1 [==============================] - 0s 109ms/step\n"
          ]
        },
        {
          "output_type": "execute_result",
          "data": {
            "text/plain": [
              "array([1])"
            ]
          },
          "metadata": {},
          "execution_count": 19
        }
      ]
    },
    {
      "cell_type": "code",
      "source": [
        "index=['Forest','With Fire']\n",
        "result = str(index[preds[0]])\n",
        "result"
      ],
      "metadata": {
        "colab": {
          "base_uri": "https://localhost:8080/",
          "height": 36
        },
        "id": "ri1j67pB7ECu",
        "outputId": "442aa1d8-007e-4325-8492-358ee7dd1cfe"
      },
      "execution_count": 20,
      "outputs": [
        {
          "output_type": "execute_result",
          "data": {
            "text/plain": [
              "'With Fire'"
            ],
            "application/vnd.google.colaboratory.intrinsic+json": {
              "type": "string"
            }
          },
          "metadata": {},
          "execution_count": 20
        }
      ]
    },
    {
      "cell_type": "code",
      "source": [
        "img = image.load_img(r\"/content/drive/MyDrive/forest fire/Dataset/train_set/forest/with_fire (109).jpg\",target_size= (64,64))#loading of the image\n",
        "x = image.img_to_array(img)\n",
        "x = np.expand_dims(x,axis = 0)\n",
        "preds=model.predict(x)\n",
        "preds=np.argmax(preds,axis=1)\n",
        "preds"
      ],
      "metadata": {
        "colab": {
          "base_uri": "https://localhost:8080/"
        },
        "id": "ry4EC64e7NCT",
        "outputId": "d766a138-cb90-4dcf-e4f1-f978a47ce074"
      },
      "execution_count": 21,
      "outputs": [
        {
          "output_type": "stream",
          "name": "stdout",
          "text": [
            "1/1 [==============================] - 0s 25ms/step\n"
          ]
        },
        {
          "output_type": "execute_result",
          "data": {
            "text/plain": [
              "array([0])"
            ]
          },
          "metadata": {},
          "execution_count": 21
        }
      ]
    },
    {
      "cell_type": "code",
      "source": [
        "index=['Forest','With Fire']\n",
        "result=str(index[preds[0]])\n",
        "result"
      ],
      "metadata": {
        "colab": {
          "base_uri": "https://localhost:8080/",
          "height": 36
        },
        "id": "b3CT6SRj8wIO",
        "outputId": "6644ad2a-26a9-4326-c09c-3ccba8926600"
      },
      "execution_count": 22,
      "outputs": [
        {
          "output_type": "execute_result",
          "data": {
            "text/plain": [
              "'Forest'"
            ],
            "application/vnd.google.colaboratory.intrinsic+json": {
              "type": "string"
            }
          },
          "metadata": {},
          "execution_count": 22
        }
      ]
    },
    {
      "cell_type": "code",
      "source": [
        "img = image.load_img(r\"/content/drive/MyDrive/forest fire/Dataset/test_set/with fire/Forest_Fire (4).jpg\",target_size= (64,64))#loading of the image\n",
        "x = image.img_to_array(img)\n",
        "x = np.expand_dims(x,axis = 0)\n",
        "preds=model.predict(x)\n",
        "preds=np.argmax(preds,axis=1)\n",
        "preds"
      ],
      "metadata": {
        "colab": {
          "base_uri": "https://localhost:8080/"
        },
        "id": "ubNMC5Mk80t7",
        "outputId": "72df6dfa-2187-4149-82a9-13e46282ffce"
      },
      "execution_count": 23,
      "outputs": [
        {
          "output_type": "stream",
          "name": "stdout",
          "text": [
            "1/1 [==============================] - 0s 23ms/step\n"
          ]
        },
        {
          "output_type": "execute_result",
          "data": {
            "text/plain": [
              "array([1])"
            ]
          },
          "metadata": {},
          "execution_count": 23
        }
      ]
    },
    {
      "cell_type": "code",
      "source": [
        "index=['Forest','With Fire']\n",
        "result=str(index[preds[0]])\n",
        "result"
      ],
      "metadata": {
        "colab": {
          "base_uri": "https://localhost:8080/",
          "height": 36
        },
        "id": "0XJ9-NvK9Hwf",
        "outputId": "7d22e4fc-c8f1-45f9-91e7-27fedbb10dd3"
      },
      "execution_count": 24,
      "outputs": [
        {
          "output_type": "execute_result",
          "data": {
            "text/plain": [
              "'With Fire'"
            ],
            "application/vnd.google.colaboratory.intrinsic+json": {
              "type": "string"
            }
          },
          "metadata": {},
          "execution_count": 24
        }
      ]
    },
    {
      "cell_type": "code",
      "source": [
        "img = image.load_img(r\"/content/drive/MyDrive/forest fire/Dataset/test_set/forest/1009821.jpg\",target_size= (64,64))#loading of the image\n",
        "x = image.img_to_array(img)\n",
        "x = np.expand_dims(x,axis = 0)\n",
        "preds=model.predict(x)\n",
        "preds=np.argmax(preds,axis=1)\n",
        "preds"
      ],
      "metadata": {
        "colab": {
          "base_uri": "https://localhost:8080/"
        },
        "id": "GGwlnD7R9NMj",
        "outputId": "4680cad7-5d04-4725-ef0e-7894091f92ac"
      },
      "execution_count": 25,
      "outputs": [
        {
          "output_type": "stream",
          "name": "stdout",
          "text": [
            "1/1 [==============================] - 0s 23ms/step\n"
          ]
        },
        {
          "output_type": "execute_result",
          "data": {
            "text/plain": [
              "array([0])"
            ]
          },
          "metadata": {},
          "execution_count": 25
        }
      ]
    },
    {
      "cell_type": "code",
      "source": [
        "index=['Forest','With Fire']\n",
        "result=str(index[preds[0]])\n",
        "result"
      ],
      "metadata": {
        "colab": {
          "base_uri": "https://localhost:8080/",
          "height": 36
        },
        "id": "46MhI2xL9YcC",
        "outputId": "dbf9192a-4428-44fc-ea23-2cd90341d4f0"
      },
      "execution_count": 26,
      "outputs": [
        {
          "output_type": "execute_result",
          "data": {
            "text/plain": [
              "'Forest'"
            ],
            "application/vnd.google.colaboratory.intrinsic+json": {
              "type": "string"
            }
          },
          "metadata": {},
          "execution_count": 26
        }
      ]
    },
    {
      "cell_type": "code",
      "source": [],
      "metadata": {
        "id": "9Xd1jjnPCzNe"
      },
      "execution_count": 26,
      "outputs": []
    }
  ]
}