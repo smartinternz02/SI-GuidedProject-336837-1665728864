{
  "nbformat": 4,
  "nbformat_minor": 0,
  "metadata": {
    "colab": {
      "provenance": []
    },
    "kernelspec": {
      "name": "python3",
      "display_name": "Python 3"
    },
    "language_info": {
      "name": "python"
    }
  },
  "cells": [
    {
      "cell_type": "code",
      "source": [
        "from keras.models import Sequential\n",
        "from keras.layers import Dense\n",
        "from keras.layers import Convolution2D\n",
        "from keras.layers import MaxPooling2D\n",
        "from keras.layers import Flatten"
      ],
      "metadata": {
        "id": "1bIerhcbxkRb"
      },
      "execution_count": null,
      "outputs": []
    },
    {
      "cell_type": "code",
      "source": [
        "import numpy as np\n",
        "import tensorflow \n",
        "from tensorflow.keras.models import Sequential \n",
        "from tensorflow.keras import layers \n",
        "from tensorflow.keras.layers import Dense,Flatten\n",
        "from tensorflow.keras.layers import Conv2D,MaxPooling2D\n",
        "from tensorflow.keras.preprocessing.image import ImageDataGenerator"
      ],
      "metadata": {
        "id": "Nu9xnbU2rPVN"
      },
      "execution_count": null,
      "outputs": []
    },
    {
      "cell_type": "code",
      "execution_count": null,
      "metadata": {
        "id": "QNiXnCYjpZ9d"
      },
      "outputs": [],
      "source": [
        "import keras\n",
        "from keras.preprocessing.image import ImageDataGenerator #image preprocessing"
      ]
    },
    {
      "cell_type": "code",
      "source": [
        "#Defining the parameters for ImageDataGenerator class\n",
        "train_datagen=ImageDataGenerator(rescale=1./255,shear_range=0.2,rotation_range=180,zoom_range=0.2,horizontal_flip=True)\n",
        "test_datagen=ImageDataGenerator(rescale=1./255)"
      ],
      "metadata": {
        "id": "8t9BDvFZYvpN"
      },
      "execution_count": null,
      "outputs": []
    },
    {
      "cell_type": "code",
      "source": [
        "#Applying ImageDataGenerator on trainset and test set\n",
        "x_train=train_datagen.flow_from_directory(r'/content/drive/MyDrive/forest fire/Dataset/train_set',target_size = (64,64), batch_size = 32, class_mode = 'categorical')"
      ],
      "metadata": {
        "colab": {
          "base_uri": "https://localhost:8080/"
        },
        "id": "dJUhSK03aSdG",
        "outputId": "92007313-96d0-49b8-e7fa-a9c560727a18"
      },
      "execution_count": null,
      "outputs": [
        {
          "output_type": "stream",
          "name": "stdout",
          "text": [
            "Found 445 images belonging to 2 classes.\n"
          ]
        }
      ]
    },
    {
      "cell_type": "code",
      "source": [
        "x_test=test_datagen.flow_from_directory(directory=r'/content/drive/MyDrive/forest fire/Dataset/test_set',target_size=(64,64),batch_size=32,class_mode='categorical')"
      ],
      "metadata": {
        "id": "baY3cIkScpMa",
        "colab": {
          "base_uri": "https://localhost:8080/"
        },
        "outputId": "17268751-93da-4e84-84cc-cc5c2f2817e8"
      },
      "execution_count": null,
      "outputs": [
        {
          "output_type": "stream",
          "name": "stdout",
          "text": [
            "Found 121 images belonging to 2 classes.\n"
          ]
        }
      ]
    },
    {
      "cell_type": "code",
      "source": [
        "print(x_train.class_indices)#checking the number of classes"
      ],
      "metadata": {
        "colab": {
          "base_uri": "https://localhost:8080/"
        },
        "id": "dzRo66JZr9uj",
        "outputId": "1038d540-e9c4-4da8-e099-eccfcb5a1408"
      },
      "execution_count": null,
      "outputs": [
        {
          "output_type": "stream",
          "name": "stdout",
          "text": [
            "{'forest': 0, 'with fire': 1}\n"
          ]
        }
      ]
    },
    {
      "cell_type": "code",
      "source": [
        "from collections import Counter as c\n",
        "c(x_train.labels)"
      ],
      "metadata": {
        "colab": {
          "base_uri": "https://localhost:8080/"
        },
        "id": "6xH60mZtuDpx",
        "outputId": "d964b5b2-9f17-42ef-8ab4-a52282254b85"
      },
      "execution_count": null,
      "outputs": [
        {
          "output_type": "execute_result",
          "data": {
            "text/plain": [
              "Counter({0: 281, 1: 164})"
            ]
          },
          "metadata": {},
          "execution_count": 8
        }
      ]
    },
    {
      "cell_type": "markdown",
      "source": [
        "## Creating the model"
      ],
      "metadata": {
        "id": "ZLgssnzvw0Lj"
      }
    },
    {
      "cell_type": "code",
      "source": [
        "import tensorflow \n",
        "from tensorflow.keras.models import Sequential \n",
        "from tensorflow.keras import layers \n",
        "from tensorflow.keras.layers import Dense,Flatten\n",
        "from tensorflow.keras.layers import Conv2D,MaxPooling2D\n",
        "from tensorflow.keras.preprocessing.image import ImageDataGenerator"
      ],
      "metadata": {
        "id": "IR8QNANccy9k"
      },
      "execution_count": null,
      "outputs": []
    },
    {
      "cell_type": "code",
      "source": [
        "#initializing the model\n",
        "model=Sequential()"
      ],
      "metadata": {
        "id": "RAmZV0kmc78U"
      },
      "execution_count": null,
      "outputs": []
    },
    {
      "cell_type": "code",
      "source": [
        "#adding convolution layer\n",
        "model.add(Convolution2D(32,(3,3),input_shape=(64,64,3),activation='relu'))"
      ],
      "metadata": {
        "id": "YqFv0dtMc7vE"
      },
      "execution_count": null,
      "outputs": []
    },
    {
      "cell_type": "code",
      "source": [
        "#adding maxpooling layer\n",
        "model.add(MaxPooling2D(pool_size=(2,2)))"
      ],
      "metadata": {
        "id": "goKFx0gWc7iR"
      },
      "execution_count": null,
      "outputs": []
    },
    {
      "cell_type": "code",
      "source": [
        "#adding flatten layer\n",
        "model.add(Flatten())"
      ],
      "metadata": {
        "id": "Ttih0Pdmc7Nd"
      },
      "execution_count": null,
      "outputs": []
    },
    {
      "cell_type": "code",
      "source": [
        "#adding hidden layer\n",
        "model.add(Dense(32))"
      ],
      "metadata": {
        "id": "VzddvEOoc6uf"
      },
      "execution_count": null,
      "outputs": []
    },
    {
      "cell_type": "code",
      "source": [
        "#adding output layer\n",
        "model.add(Dense(2,activation='softmax'))"
      ],
      "metadata": {
        "id": "PHeY0VpXc6DC"
      },
      "execution_count": null,
      "outputs": []
    },
    {
      "cell_type": "code",
      "source": [
        "model.summary()"
      ],
      "metadata": {
        "colab": {
          "base_uri": "https://localhost:8080/"
        },
        "id": "vFn4IAL91_vF",
        "outputId": "97f8829d-85af-4b5b-8422-2cc29ee1c39b"
      },
      "execution_count": null,
      "outputs": [
        {
          "output_type": "stream",
          "name": "stdout",
          "text": [
            "Model: \"sequential\"\n",
            "_________________________________________________________________\n",
            " Layer (type)                Output Shape              Param #   \n",
            "=================================================================\n",
            " conv2d (Conv2D)             (None, 62, 62, 32)        896       \n",
            "                                                                 \n",
            " max_pooling2d (MaxPooling2D  (None, 31, 31, 32)       0         \n",
            " )                                                               \n",
            "                                                                 \n",
            " flatten (Flatten)           (None, 30752)             0         \n",
            "                                                                 \n",
            " dense (Dense)               (None, 32)                984096    \n",
            "                                                                 \n",
            " dense_1 (Dense)             (None, 2)                 66        \n",
            "                                                                 \n",
            "=================================================================\n",
            "Total params: 985,058\n",
            "Trainable params: 985,058\n",
            "Non-trainable params: 0\n",
            "_________________________________________________________________\n"
          ]
        }
      ]
    },
    {
      "cell_type": "markdown",
      "source": [
        "## ** Compiling the model**"
      ],
      "metadata": {
        "id": "pXLPuwa85rEH"
      }
    },
    {
      "cell_type": "code",
      "source": [
        "model.compile(optimizer='adam',loss='binary_crossentropy',metrics=['accuracy'])"
      ],
      "metadata": {
        "id": "5O0iiRC32Hh9"
      },
      "execution_count": null,
      "outputs": []
    },
    {
      "cell_type": "code",
      "source": [
        "len(x_train)"
      ],
      "metadata": {
        "colab": {
          "base_uri": "https://localhost:8080/"
        },
        "id": "ErsALLZI57OI",
        "outputId": "7aa241fc-8bb2-420f-ade9-1cd1020fa270"
      },
      "execution_count": null,
      "outputs": [
        {
          "output_type": "execute_result",
          "data": {
            "text/plain": [
              "14"
            ]
          },
          "metadata": {},
          "execution_count": 18
        }
      ]
    },
    {
      "cell_type": "markdown",
      "source": [
        "## **Fitting the model**"
      ],
      "metadata": {
        "id": "QC7Qe8Go60-z"
      }
    },
    {
      "cell_type": "code",
      "source": [
        "model.fit(x_train,steps_per_epoch=len(x_train),validation_data=x_test,validation_steps=len(x_test),epochs=10)"
      ],
      "metadata": {
        "colab": {
          "base_uri": "https://localhost:8080/"
        },
        "id": "gCW2N0_s6ICk",
        "outputId": "6a517f21-d913-4837-be9a-159f797923a2"
      },
      "execution_count": null,
      "outputs": [
        {
          "output_type": "stream",
          "name": "stdout",
          "text": [
            "Epoch 1/10\n",
            "14/14 [==============================] - 105s 8s/step - loss: 1.7213 - accuracy: 0.6337 - val_loss: 0.8877 - val_accuracy: 0.8017\n",
            "Epoch 2/10\n",
            "14/14 [==============================] - 20s 1s/step - loss: 0.4457 - accuracy: 0.8562 - val_loss: 0.1241 - val_accuracy: 0.9587\n",
            "Epoch 3/10\n",
            "14/14 [==============================] - 21s 2s/step - loss: 0.2149 - accuracy: 0.9146 - val_loss: 0.1121 - val_accuracy: 0.9504\n",
            "Epoch 4/10\n",
            "14/14 [==============================] - 22s 2s/step - loss: 0.1960 - accuracy: 0.9169 - val_loss: 0.1181 - val_accuracy: 0.9421\n",
            "Epoch 5/10\n",
            "14/14 [==============================] - 21s 2s/step - loss: 0.1871 - accuracy: 0.9236 - val_loss: 0.0873 - val_accuracy: 0.9752\n",
            "Epoch 6/10\n",
            "14/14 [==============================] - 22s 2s/step - loss: 0.1618 - accuracy: 0.9393 - val_loss: 0.0770 - val_accuracy: 0.9752\n",
            "Epoch 7/10\n",
            "14/14 [==============================] - 22s 2s/step - loss: 0.1662 - accuracy: 0.9416 - val_loss: 0.0753 - val_accuracy: 0.9587\n",
            "Epoch 8/10\n",
            "14/14 [==============================] - 25s 2s/step - loss: 0.1600 - accuracy: 0.9416 - val_loss: 0.0646 - val_accuracy: 0.9752\n",
            "Epoch 9/10\n",
            "14/14 [==============================] - 24s 2s/step - loss: 0.1748 - accuracy: 0.9326 - val_loss: 0.0675 - val_accuracy: 0.9752\n",
            "Epoch 10/10\n",
            "14/14 [==============================] - 24s 2s/step - loss: 0.1587 - accuracy: 0.9416 - val_loss: 0.0732 - val_accuracy: 0.9752\n"
          ]
        },
        {
          "output_type": "execute_result",
          "data": {
            "text/plain": [
              "<keras.callbacks.History at 0x7f8470ab0690>"
            ]
          },
          "metadata": {},
          "execution_count": 19
        }
      ]
    },
    {
      "cell_type": "markdown",
      "source": [
        "## **Saving our model**"
      ],
      "metadata": {
        "id": "QkzX0_1-3TFa"
      }
    },
    {
      "cell_type": "code",
      "source": [
        "model.save('forest1 (2).h5')"
      ],
      "metadata": {
        "id": "UaNse_M67MM4"
      },
      "execution_count": null,
      "outputs": []
    },
    {
      "cell_type": "markdown",
      "source": [
        "## **Predicting our results**"
      ],
      "metadata": {
        "id": "1J0Mc73K5qZI"
      }
    },
    {
      "cell_type": "code",
      "source": [
        "from tensorflow.keras.models import load_model\n",
        "from tensorflow.keras.preprocessing import image\n",
        "model = load_model(\"forest1 (2).h5\")  "
      ],
      "metadata": {
        "id": "KcsDUPiR3cnH"
      },
      "execution_count": null,
      "outputs": []
    },
    {
      "cell_type": "code",
      "source": [
        "img = image.load_img(r\"/content/drive/MyDrive/forest fire/Dataset/train_set/with fire/with fire (14).jpg\",target_size= (64,64))#loading of the image\n",
        "x = image.img_to_array(img)\n",
        "x = np.expand_dims(x,axis = 0)#changing the shape\n",
        "#pred = model.predict_classes(x)#predicting the classes\n",
        "preds=model.predict(x)\n",
        "preds=np.argmax(preds,axis=1)\n",
        "preds"
      ],
      "metadata": {
        "colab": {
          "base_uri": "https://localhost:8080/"
        },
        "id": "OzMvjWqE6nh0",
        "outputId": "31bda720-b663-436c-aa6c-651fdc91afd1"
      },
      "execution_count": null,
      "outputs": [
        {
          "output_type": "stream",
          "name": "stdout",
          "text": [
            "1/1 [==============================] - 0s 128ms/step\n"
          ]
        },
        {
          "output_type": "execute_result",
          "data": {
            "text/plain": [
              "array([1])"
            ]
          },
          "metadata": {},
          "execution_count": 23
        }
      ]
    },
    {
      "cell_type": "code",
      "source": [
        "img"
      ],
      "metadata": {
        "colab": {
          "base_uri": "https://localhost:8080/",
          "height": 81
        },
        "id": "G_5P3j84j0Qc",
        "outputId": "17cec17f-ebcd-4df1-c2bf-7c07fc9d0ad6"
      },
      "execution_count": null,
      "outputs": [
        {
          "output_type": "execute_result",
          "data": {
            "text/plain": [
              "<PIL.Image.Image image mode=RGB size=64x64 at 0x7F84707C8F90>"
            ],
            "image/png": "[encoded data removed]"
          },
          "metadata": {},
          "execution_count": 24
        }
      ]
    },
    {
      "cell_type": "code",
      "source": [
        "index=['Forest','With Fire']\n",
        "result = str(index[preds[0]])\n",
        "result"
      ],
      "metadata": {
        "colab": {
          "base_uri": "https://localhost:8080/",
          "height": 36
        },
        "id": "ri1j67pB7ECu",
        "outputId": "78591b48-9211-4003-c30c-70f3fbff6c00"
      },
      "execution_count": null,
      "outputs": [
        {
          "output_type": "execute_result",
          "data": {
            "text/plain": [
              "'With Fire'"
            ],
            "application/vnd.google.colaboratory.intrinsic+json": {
              "type": "string"
            }
          },
          "metadata": {},
          "execution_count": 25
        }
      ]
    },
    {
      "cell_type": "code",
      "source": [
        "img = image.load_img(r\"/content/drive/MyDrive/forest fire/Dataset/test_set/forest/0.64133000_1519374442_forest_deep.jpg\",target_size= (64,64))#loading of the image\n",
        "x = image.img_to_array(img)\n",
        "x = np.expand_dims(x,axis = 0)\n",
        "preds=model.predict(x)\n",
        "preds=np.argmax(preds,axis=1)\n",
        "preds"
      ],
      "metadata": {
        "colab": {
          "base_uri": "https://localhost:8080/"
        },
        "id": "ry4EC64e7NCT",
        "outputId": "c259b83c-8d5c-4458-83d8-8ebc4a555142"
      },
      "execution_count": null,
      "outputs": [
        {
          "output_type": "stream",
          "name": "stdout",
          "text": [
            "1/1 [==============================] - 0s 31ms/step\n"
          ]
        },
        {
          "output_type": "execute_result",
          "data": {
            "text/plain": [
              "array([0])"
            ]
          },
          "metadata": {},
          "execution_count": 26
        }
      ]
    },
    {
      "cell_type": "code",
      "source": [
        "img"
      ],
      "metadata": {
        "colab": {
          "base_uri": "https://localhost:8080/",
          "height": 81
        },
        "id": "JYfKfjAolvvC",
        "outputId": "970f4ebc-cdd6-4528-81b2-2fbba64035ed"
      },
      "execution_count": null,
      "outputs": [
        {
          "output_type": "execute_result",
          "data": {
            "text/plain": [
              "<PIL.Image.Image image mode=RGB size=64x64 at 0x7F846B0604D0>"
            ],
            "image/png": "[encoded data removed]"
          },
          "metadata": {},
          "execution_count": 27
        }
      ]
    },
    {
      "cell_type": "code",
      "source": [
        "index=['Forest','With Fire']\n",
        "result=str(index[preds[0]])\n",
        "result"
      ],
      "metadata": {
        "colab": {
          "base_uri": "https://localhost:8080/",
          "height": 36
        },
        "id": "b3CT6SRj8wIO",
        "outputId": "2ad3a29a-c49c-475b-e2c1-45791a83e3b6"
      },
      "execution_count": null,
      "outputs": [
        {
          "output_type": "execute_result",
          "data": {
            "text/plain": [
              "'Forest'"
            ],
            "application/vnd.google.colaboratory.intrinsic+json": {
              "type": "string"
            }
          },
          "metadata": {},
          "execution_count": 28
        }
      ]
    },
    {
      "cell_type": "code",
      "source": [
        "img = image.load_img(r\"/content/drive/MyDrive/forest fire/Dataset/test_set/with fire/Forest_Fire (4).jpg\",target_size= (64,64))#loading of the image\n",
        "x = image.img_to_array(img)\n",
        "x = np.expand_dims(x,axis = 0)\n",
        "preds=model.predict(x)\n",
        "preds=np.argmax(preds,axis=1)\n",
        "preds"
      ],
      "metadata": {
        "colab": {
          "base_uri": "https://localhost:8080/"
        },
        "id": "ubNMC5Mk80t7",
        "outputId": "c19f9444-d6a8-455d-88e5-88c2ba76cc6f"
      },
      "execution_count": null,
      "outputs": [
        {
          "output_type": "stream",
          "name": "stdout",
          "text": [
            "1/1 [==============================] - 0s 26ms/step\n"
          ]
        },
        {
          "output_type": "execute_result",
          "data": {
            "text/plain": [
              "array([1])"
            ]
          },
          "metadata": {},
          "execution_count": 29
        }
      ]
    },
    {
      "cell_type": "code",
      "source": [
        "index=['Forest','With Fire']\n",
        "result=str(index[preds[0]])\n",
        "result"
      ],
      "metadata": {
        "colab": {
          "base_uri": "https://localhost:8080/",
          "height": 36
        },
        "id": "0XJ9-NvK9Hwf",
        "outputId": "ecdbccff-a24c-40de-d0b3-fac6903ff5e9"
      },
      "execution_count": null,
      "outputs": [
        {
          "output_type": "execute_result",
          "data": {
            "text/plain": [
              "'With Fire'"
            ],
            "application/vnd.google.colaboratory.intrinsic+json": {
              "type": "string"
            }
          },
          "metadata": {},
          "execution_count": 30
        }
      ]
    },
    {
      "cell_type": "code",
      "source": [
        "img = image.load_img(r\"/content/drive/MyDrive/forest fire/Dataset/test_set/forest/1009821.jpg\",target_size= (64,64))#loading of the image\n",
        "x = image.img_to_array(img)\n",
        "x = np.expand_dims(x,axis = 0)\n",
        "preds=model.predict(x)\n",
        "preds=np.argmax(preds,axis=1)\n",
        "preds"
      ],
      "metadata": {
        "colab": {
          "base_uri": "https://localhost:8080/"
        },
        "id": "GGwlnD7R9NMj",
        "outputId": "ad49b356-d89b-407e-eda0-65c6bb2607fc"
      },
      "execution_count": null,
      "outputs": [
        {
          "output_type": "stream",
          "name": "stdout",
          "text": [
            "1/1 [==============================] - 0s 28ms/step\n"
          ]
        },
        {
          "output_type": "execute_result",
          "data": {
            "text/plain": [
              "array([0])"
            ]
          },
          "metadata": {},
          "execution_count": 31
        }
      ]
    },
    {
      "cell_type": "code",
      "source": [
        "index=['Forest','With Fire']\n",
        "result=str(index[preds[0]])\n",
        "result"
      ],
      "metadata": {
        "colab": {
          "base_uri": "https://localhost:8080/",
          "height": 36
        },
        "id": "46MhI2xL9YcC",
        "outputId": "e9815d54-48ac-4645-fab6-e3a2c47c73a9"
      },
      "execution_count": null,
      "outputs": [
        {
          "output_type": "execute_result",
          "data": {
            "text/plain": [
              "'Forest'"
            ],
            "application/vnd.google.colaboratory.intrinsic+json": {
              "type": "string"
            }
          },
          "metadata": {},
          "execution_count": 32
        }
      ]
    },
    {
      "cell_type": "code",
      "source": [],
      "metadata": {
        "id": "9Xd1jjnPCzNe"
      },
      "execution_count": null,
      "outputs": []
    }
  ]
}